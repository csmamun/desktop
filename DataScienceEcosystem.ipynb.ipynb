{
 "cells": [
  {
   "cell_type": "markdown",
   "id": "02da1502-d3f4-4bc0-a622-7d8108244c8f",
   "metadata": {},
   "source": [
    "# Data Science Tools and Ecosystems"
   ]
  },
  {
   "cell_type": "markdown",
   "id": "e0579016-2ff0-4a74-acc6-30ddb1958f56",
   "metadata": {},
   "source": [
    "In This notyebook, Data Science Tools and Ecosystems are summarized."
   ]
  },
  {
   "cell_type": "markdown",
   "id": "e04c8b51-0878-4bb7-8f43-f375a11cecd7",
   "metadata": {},
   "source": [
    "#Objectives:\n",
    "* List popular languages for data science \n",
    "* List libraries used in data science \n",
    "* List data science tools used by data scientist \n",
    "* Know the arithmetic functions \n",
    "* Know how to mark down the headings "
   ]
  },
  {
   "cell_type": "markdown",
   "id": "04146bad-8687-4ca7-b4a9-7644e03adb7b",
   "metadata": {},
   "source": [
    "Some of the popular languages that Data Scientise use are:\n",
    "1. Python\n",
    "2. R\n",
    "3. SQL"
   ]
  },
  {
   "cell_type": "markdown",
   "id": "f89f6f74-6229-4ced-91c9-c728fd2b54d6",
   "metadata": {},
   "source": [
    "Some of the commonly used libraries used by Data Scientist include:\n",
    "\n",
    "1. pandas\n",
    "2. scikit\n",
    "3. TensorFlow\n",
    "4. Pytorch\n",
    "5. matplotlib\n",
    "6. seaborn\n",
    "7. numPy\n"
   ]
  },
  {
   "cell_type": "markdown",
   "id": "553f2033-37d8-4687-be90-f348eb777797",
   "metadata": {},
   "source": [
    "| Data Science Tools           |\n",
    "|------------------------------|\n",
    "| Jupyter Notebook.            |\n",
    "| RStudio                      |\n",
    "| VS Code                      |"
   ]
  },
  {
   "cell_type": "markdown",
   "id": "2abd3eb4-a4d6-49b3-9076-767ed1897778",
   "metadata": {},
   "source": [
    "### Below are a few examples of evaluating arithmatic expression in Python."
   ]
  },
  {
   "cell_type": "code",
   "execution_count": 4,
   "id": "79cdd79f-2a6d-4e62-a188-376ec99bc94a",
   "metadata": {},
   "outputs": [
    {
     "data": {
      "text/plain": [
       "17"
      ]
     },
     "execution_count": 4,
     "metadata": {},
     "output_type": "execute_result"
    }
   ],
   "source": [
    "# This is a simple arithmetic expression to multipy  the add integers \n",
    "(3*4)+5"
   ]
  },
  {
   "cell_type": "code",
   "execution_count": 5,
   "id": "c95504c7-a383-4959-bb20-52406a0e0ce7",
   "metadata": {},
   "outputs": [
    {
     "data": {
      "text/plain": [
       "3.3333333333333335"
      ]
     },
     "execution_count": 5,
     "metadata": {},
     "output_type": "execute_result"
    }
   ],
   "source": [
    "# this will convert 200 minutes to hours by diving by 60 \n",
    "minutes = 200\n",
    "hours = minutes / 60\n",
    "hours"
   ]
  },
  {
   "cell_type": "markdown",
   "id": "f244e105-15cd-46f6-8bbb-dc9ea1ec0954",
   "metadata": {},
   "source": [
    "# Author\n",
    "Abdullah Al Mamun"
   ]
  },
  {
   "cell_type": "code",
   "execution_count": null,
   "id": "dd34c17a-ea4f-4b7e-8780-03f91f844cff",
   "metadata": {},
   "outputs": [],
   "source": []
  }
 ],
 "metadata": {
  "kernelspec": {
   "display_name": "Python [conda env:base] *",
   "language": "python",
   "name": "conda-base-py"
  },
  "language_info": {
   "codemirror_mode": {
    "name": "ipython",
    "version": 3
   },
   "file_extension": ".py",
   "mimetype": "text/x-python",
   "name": "python",
   "nbconvert_exporter": "python",
   "pygments_lexer": "ipython3",
   "version": "3.13.5"
  }
 },
 "nbformat": 4,
 "nbformat_minor": 5
}
